{
 "cells": [
  {
   "cell_type": "markdown",
   "id": "cdf92117",
   "metadata": {},
   "source": [
    "# NCCS Embedding Script\n",
    "\n",
    "In this notebook, I explore the best embedding and vector database for semantic search. This is evaluated using 2 criteria\n",
    "1) accuracy \n",
    "2) speed\n",
    "\n",
    "Useful notebooks\n",
    "* https://github.com/pinecone-io/examples/blob/master/generation/langchain/handbook/05-langchain-retrieval-augmentation.ipynb\n",
    "\n",
    "*Updates*: \n",
    "I will be using Pinecone as it has given me very accurate results with very good speed. "
   ]
  },
  {
   "cell_type": "code",
   "execution_count": 2,
   "id": "765a53ab",
   "metadata": {},
   "outputs": [],
   "source": [
    "import time\n",
    "import os\n",
    "import textwrap\n",
    "import json\n",
    "import pinecone\n",
    "\n",
    "from tqdm.auto import tqdm\n",
    "from uuid import uuid4\n",
    "from getpass import getpass\n",
    "from sentence_transformers import SentenceTransformer\n",
    "from langchain.vectorstores import Pinecone\n",
    "\n",
    "from embeddings import LocalHuggingFaceEmbeddings"
   ]
  },
  {
   "cell_type": "markdown",
   "id": "cf219206",
   "metadata": {},
   "source": [
    "### Embedding \n",
    "\n",
    "I will be using HuggingFaceEmbeddings as that will save me a lot of money and I think it should do the job sufficiently well. "
   ]
  },
  {
   "cell_type": "code",
   "execution_count": 3,
   "id": "ffb59315",
   "metadata": {},
   "outputs": [
    {
     "name": "stdout",
     "output_type": "stream",
     "text": [
      "309\n",
      "{'id': 'e9a90f5fe727-2', 'text': 'In 2009, Singapore pledged to reduce our emissions by 16% below BAU levels by 2020 ahead of the Copenhagen Summit. Singapore has achieved this pledge with a 32% reduction below BAU levels in 2020.', 'source': 'https://www.nccs.gov.sg/singapores-climate-action/singapores-climate-targets/overview'}\n"
     ]
    }
   ],
   "source": [
    "documents = []\n",
    "\n",
    "with open('train_data.jsonl', 'r') as f:\n",
    "    for line in f: \n",
    "        data = json.loads(line)\n",
    "        documents.append(data)\n",
    "\n",
    "print(len(documents))\n",
    "print(documents[5])"
   ]
  },
  {
   "cell_type": "code",
   "execution_count": 4,
   "id": "46444da6",
   "metadata": {},
   "outputs": [],
   "source": [
    "embeddings = LocalHuggingFaceEmbeddings('multi-qa-mpnet-base-dot-v1')"
   ]
  },
  {
   "cell_type": "code",
   "execution_count": 5,
   "id": "51ba372a",
   "metadata": {},
   "outputs": [
    {
     "name": "stdout",
     "output_type": "stream",
     "text": [
      "768\n"
     ]
    }
   ],
   "source": [
    "res = embeddings.embed_query(documents[5][\"text\"])\n",
    "\n",
    "print(len(res)) # 768-dimension"
   ]
  },
  {
   "cell_type": "markdown",
   "id": "31801398",
   "metadata": {},
   "source": [
    "# Vector Databases"
   ]
  },
  {
   "cell_type": "markdown",
   "id": "15ffc13e",
   "metadata": {},
   "source": [
    "## Pinecone\n",
    "\n",
    "Pinecone has been exceedingly popular these days, so there may be issues with it. "
   ]
  },
  {
   "cell_type": "code",
   "execution_count": 6,
   "id": "91a5f537",
   "metadata": {},
   "outputs": [
    {
     "name": "stdout",
     "output_type": "stream",
     "text": [
      "Pinecone API Key: ········\n",
      "Pinecone environment: northamerica-northeast1-gcp\n"
     ]
    }
   ],
   "source": [
    "# Initialise pinecone \n",
    "\n",
    "# find API key in console at app.pinecone.io\n",
    "YOUR_API_KEY = getpass(\"Pinecone API Key: \")\n",
    "# find ENV (cloud region) next to API key in console\n",
    "YOUR_ENV = input(\"Pinecone environment: \")\n",
    "\n",
    "index_name = 'langchain-retrieval-augmentation'\n",
    "pinecone.init(\n",
    "    api_key=YOUR_API_KEY,\n",
    "    environment=YOUR_ENV\n",
    ")\n",
    "\n",
    "# we create a new index\n",
    "pinecone.create_index(\n",
    "    name=index_name,\n",
    "    metric='dotproduct',\n",
    "    dimension=768  # 768 \n",
    ")"
   ]
  },
  {
   "cell_type": "markdown",
   "id": "bb1e1e4a",
   "metadata": {},
   "source": [
    "Connect to the initialised index. "
   ]
  },
  {
   "cell_type": "code",
   "execution_count": 8,
   "id": "b0d1f4bb",
   "metadata": {},
   "outputs": [
    {
     "data": {
      "text/plain": [
       "{'dimension': 768,\n",
       " 'index_fullness': 0.0,\n",
       " 'namespaces': {},\n",
       " 'total_vector_count': 0}"
      ]
     },
     "execution_count": 8,
     "metadata": {},
     "output_type": "execute_result"
    }
   ],
   "source": [
    "index = pinecone.GRPCIndex(index_name)\n",
    "\n",
    "index.describe_index_stats()"
   ]
  },
  {
   "cell_type": "markdown",
   "id": "439191c9",
   "metadata": {},
   "source": [
    "### Indexing\n",
    "\n",
    "So what we are doing here is to insert an indexed version of our data in Pinecone. Recall that indexing has already been done when we performed data cleaning. \n",
    "\n",
    "Hence, we simply need to upload that indexed data into Pinecone in batches. "
   ]
  },
  {
   "cell_type": "code",
   "execution_count": 9,
   "id": "b0fa8508",
   "metadata": {},
   "outputs": [
    {
     "name": "stderr",
     "output_type": "stream",
     "text": [
      "100%|█████████████████████████████████████████| 309/309 [00:03<00:00, 84.26it/s]\n"
     ]
    }
   ],
   "source": [
    "batch_limit = 100\n",
    "\n",
    "texts = []\n",
    "metadatas = []\n",
    "\n",
    "for i, record in enumerate(tqdm(documents)):\n",
    "    record_texts = record['text'] \n",
    "    metadata = {\n",
    "        'id': str(record['id']),\n",
    "        'source': record['source'],\n",
    "        'text': record_texts\n",
    "    }\n",
    "    \n",
    "    # append these to current batches\n",
    "    texts.append(record_texts)\n",
    "    metadatas.append(metadata)\n",
    "     \n",
    "    # if we have reached the batch_limit we can add texts to Pinecone index \n",
    "    if len(texts) >= batch_limit:\n",
    "        ids = [metadata[\"id\"] for metadata in metadatas ]\n",
    "        embeds = embeddings.embed_documents(texts)\n",
    "        index.upsert(vectors=zip(ids, embeds, metadatas))\n",
    "        texts = []\n",
    "        metadatas = []"
   ]
  },
  {
   "cell_type": "code",
   "execution_count": 10,
   "id": "46f8641a",
   "metadata": {},
   "outputs": [
    {
     "data": {
      "text/plain": [
       "{'dimension': 768,\n",
       " 'index_fullness': 0.0,\n",
       " 'namespaces': {'': {'vector_count': 300}},\n",
       " 'total_vector_count': 300}"
      ]
     },
     "execution_count": 10,
     "metadata": {},
     "output_type": "execute_result"
    }
   ],
   "source": [
    "index.describe_index_stats()"
   ]
  },
  {
   "cell_type": "markdown",
   "id": "345aae2e",
   "metadata": {},
   "source": [
    "### Querying"
   ]
  },
  {
   "cell_type": "code",
   "execution_count": 11,
   "id": "cba79538",
   "metadata": {},
   "outputs": [],
   "source": [
    "text_field = \"text\"\n",
    "\n",
    "# switch back to normal index for langchain\n",
    "index = pinecone.Index(index_name)\n",
    "\n",
    "vectorstore = Pinecone(\n",
    "    index, embeddings.embed_query, text_field\n",
    ")"
   ]
  },
  {
   "cell_type": "code",
   "execution_count": 12,
   "id": "da924313",
   "metadata": {},
   "outputs": [
    {
     "data": {
      "text/plain": [
       "[Document(page_content='The National Climate Change Secretariat (NCCS) was established on 1 July 2010 under the Prime Minister’s Office (PMO) to develop and implement Singapore’s domestic and international policies and strategies to tackle climate change. NCCS is part of the Strategy Group which supports the Prime Minister and his Cabinet to establish priorities and strengthen strategic alignment across Government', metadata={'id': '2afae8eb58f8-0', 'source': 'https://www.nccs.gov.sg/who-we-are/about-nccs'}),\n",
       " Document(page_content='Read more about Singapore’s climate actions.\\nPromoting International Co-operation on Climate Change\\nSingapore also participates in other multilateral efforts that support a comprehensive and holistic approach to dealing with climate change including discussions under the World Trade Organization (WTO), the World Intellectual Property Organization (WIPO), the International Maritime Organization (IMO) and the International Civil Aviation Organization (ICAO).', metadata={'id': 'f3adcac3f6db-27', 'source': 'https://www.nccs.gov.sg/singapores-climate-action/singapore-and-international-efforts'}),\n",
       " Document(page_content='INTER-MINISTERIAL COMMITTEE ON CLIMATE CHANGE\\nThe Inter-Ministerial Committee on Climate Change (IMCCC) enhances Whole-of-Government coordination on climate change policies to ensure that Singapore is prepared for the impacts of climate change. Established in 2007, IMCCC is chaired by Mr Teo Chee Hean, Senior Minister and Coordinating Minister for National Security.\\nIMCCC Members\\nChairman\\n\\nMr Teo Chee Hean, Senior Minister and Coordinating Minister for National Security\\n\\nMembers', metadata={'id': '6fcb210b296d-0', 'source': 'https://www.nccs.gov.sg/who-we-are/inter-ministerial-committee-on-climate-change'})]"
      ]
     },
     "execution_count": 12,
     "metadata": {},
     "output_type": "execute_result"
    }
   ],
   "source": [
    "query = \"What is the national climate change secretariat?\"\n",
    "\n",
    "vectorstore.similarity_search(\n",
    "    query,  # our search query\n",
    "    k=3  # return 3 most relevant docs\n",
    ")"
   ]
  },
  {
   "cell_type": "code",
   "execution_count": 13,
   "id": "918d19ee",
   "metadata": {},
   "outputs": [
    {
     "data": {
      "text/plain": [
       "[Document(page_content='INTER-MINISTERIAL COMMITTEE ON CLIMATE CHANGE\\nThe Inter-Ministerial Committee on Climate Change (IMCCC) enhances Whole-of-Government coordination on climate change policies to ensure that Singapore is prepared for the impacts of climate change. Established in 2007, IMCCC is chaired by Mr Teo Chee Hean, Senior Minister and Coordinating Minister for National Security.\\nIMCCC Members\\nChairman\\n\\nMr Teo Chee Hean, Senior Minister and Coordinating Minister for National Security\\n\\nMembers', metadata={'id': '6fcb210b296d-0', 'source': 'https://www.nccs.gov.sg/who-we-are/inter-ministerial-committee-on-climate-change'}),\n",
       " Document(page_content='IMCCC Executive Committee\\nIMCCC is supported by an Executive Committee (Exco) comprising the permanent secretaries of the respective Ministries. The IMCCC Exco oversees the work of the Long-Term Emissions and Mitigation Working Group (LWG), Resilience Working Group (RWG), Sustainability Working Group (SWG), Green Economy Working Group (GEWG) and Communications and Engagement Working Group (CEWG).\\nIMCCC Exco Members\\nChairman', metadata={'id': '6fcb210b296d-3', 'source': 'https://www.nccs.gov.sg/who-we-are/inter-ministerial-committee-on-climate-change'}),\n",
       " Document(page_content='IMCCC Exco Members\\nChairman\\n\\nMr Leo Yip, Head Civil Service, Permanent Secretary (Prime Minister’s Office)(Strategy)\\n\\nMembers\\n\\nMr Stanley Loh, Permanent Secretary (Sustainability and the Environment)\\nMrs Tan Ching Yee, Permanent Secretary (Finance)\\nMs Lai Wei Lin, Second Permanent Secretary (Finance)\\nMr Albert Chua, Permanent Secretary (Foreign Affairs)\\nMrs Ow Foong Pheng, Permanent Secretary (National Development)\\nMs Chan Lai Fung, Permanent Secretary (National Research and Development)', metadata={'id': '6fcb210b296d-4', 'source': 'https://www.nccs.gov.sg/who-we-are/inter-ministerial-committee-on-climate-change'})]"
      ]
     },
     "execution_count": 13,
     "metadata": {},
     "output_type": "execute_result"
    }
   ],
   "source": [
    "query = \"What is the IMCC?\"\n",
    "\n",
    "vectorstore.similarity_search(\n",
    "    query,  # our search query\n",
    "    k=3  # return 3 most relevant docs\n",
    ")"
   ]
  },
  {
   "cell_type": "code",
   "execution_count": 14,
   "id": "7b3784fb",
   "metadata": {},
   "outputs": [
    {
     "data": {
      "text/plain": [
       "[Document(page_content='Mr Lee Chuan Teck, Permanent Secretary (Trade and Industry)(Development)\\nMr Loh Ngai Seng, Permanent Secretary (Transport)\\nDr Beh Swan Gin, Chairman, Economic Development Board\\nMr Ravi Menon, Managing Director, Monetary Authority of Singapore\\n\\nSecretariat\\n\\nMr Benedict Chia, Director General (Climate Change), National Climate Change Secretariat, Strategy Group, Prime Minister’s Office\\nMr Heng Jian Wei, Director (Policy), National Climate Change Secretariat, Strategy Group, Prime Minister’s Office', metadata={'id': '6fcb210b296d-5', 'source': 'https://www.nccs.gov.sg/who-we-are/inter-ministerial-committee-on-climate-change'}),\n",
       " Document(page_content='Mr Desmond Lee, Minister for National Development\\nMs Indranee Rajah, Minister, Prime Minister’s Office, Second Minister for Finance and Second Minister for National Development\\n\\nCommittees and Work Groups Addressing Singapore’s Climate Change-related Issues\\n\\nIMCCC Executive Committee', metadata={'id': '6fcb210b296d-2', 'source': 'https://www.nccs.gov.sg/who-we-are/inter-ministerial-committee-on-climate-change'}),\n",
       " Document(page_content='Members\\n\\nMr Lawrence Wong, Deputy Prime Minister, Minister for Finance and Minister-in-charge of Strategy Group\\nMs Grace Fu, Minister for Sustainability and the Environment\\nDr Vivian Balakrishnan, Minister for Foreign Affairs\\nMr Gan Kim Yong, Minister for Trade and Industry\\nMr S Iswaran, Minister for Transport and Minister-in-charge of Trade Relations\\nMr Desmond Lee, Minister for National Development', metadata={'id': '6fcb210b296d-1', 'source': 'https://www.nccs.gov.sg/who-we-are/inter-ministerial-committee-on-climate-change'}),\n",
       " Document(page_content='The National Climate Change Secretariat (NCCS) was established on 1 July 2010 under the Prime Minister’s Office (PMO) to develop and implement Singapore’s domestic and international policies and strategies to tackle climate change. NCCS is part of the Strategy Group which supports the Prime Minister and his Cabinet to establish priorities and strengthen strategic alignment across Government', metadata={'id': '2afae8eb58f8-0', 'source': 'https://www.nccs.gov.sg/who-we-are/about-nccs'}),\n",
       " Document(page_content='IMCCC Exco Members\\nChairman\\n\\nMr Leo Yip, Head Civil Service, Permanent Secretary (Prime Minister’s Office)(Strategy)\\n\\nMembers\\n\\nMr Stanley Loh, Permanent Secretary (Sustainability and the Environment)\\nMrs Tan Ching Yee, Permanent Secretary (Finance)\\nMs Lai Wei Lin, Second Permanent Secretary (Finance)\\nMr Albert Chua, Permanent Secretary (Foreign Affairs)\\nMrs Ow Foong Pheng, Permanent Secretary (National Development)\\nMs Chan Lai Fung, Permanent Secretary (National Research and Development)', metadata={'id': '6fcb210b296d-4', 'source': 'https://www.nccs.gov.sg/who-we-are/inter-ministerial-committee-on-climate-change'})]"
      ]
     },
     "execution_count": 14,
     "metadata": {},
     "output_type": "execute_result"
    }
   ],
   "source": [
    "query = \"Who is head of civil service?\" # WRONG \n",
    "\n",
    "vectorstore.similarity_search(\n",
    "    query,  # our search query\n",
    "    k=5  # return 3 most relevant docs\n",
    ")"
   ]
  },
  {
   "cell_type": "code",
   "execution_count": 15,
   "id": "52df30e5",
   "metadata": {},
   "outputs": [
    {
     "data": {
      "text/plain": [
       "[Document(page_content='In line with the agreement adopted in Paris in December 2015, Singapore has made a further commitment to reduce our Emissions Intensity by 36 per cent from 2005 levels by 2030, and stabilise our greenhouse gas emissions with the aim of peaking around 2030.', metadata={'id': 'f3adcac3f6db-21', 'source': 'https://www.nccs.gov.sg/singapores-climate-action/singapore-and-international-efforts'}),\n",
       " Document(page_content='In 2009, Singapore pledged to reduce our emissions by 16% below BAU levels by 2020 ahead of the Copenhagen Summit. Singapore has achieved this pledge with a 32% reduction below BAU levels in 2020.', metadata={'id': 'e9a90f5fe727-2', 'source': 'https://www.nccs.gov.sg/singapores-climate-action/singapores-climate-targets/overview'}),\n",
       " Document(page_content='On 31 March 2020, Singapore submitted its enhanced Nationally Determined Contribution (NDC) and Long-Term Low-Emissions Development Strategy (LEDS) document to the UNFCCC. Singapore’s enhanced NDC now states an absolute emissions target to peak emissions at 65 MtCO2e around 2030. Singapore’s LEDS builds on the enhanced NDC by aspiring to halve emissions from its peak to 33 MtCO2e by 2050, with a view to achieving net zero emissions as soon as viable in the second half of the century.', metadata={'id': 'f3adcac3f6db-22', 'source': 'https://www.nccs.gov.sg/singapores-climate-action/singapore-and-international-efforts'})]"
      ]
     },
     "execution_count": 15,
     "metadata": {},
     "output_type": "execute_result"
    }
   ],
   "source": [
    "query = \"What is Singapore's emission targets?\"\n",
    "\n",
    "vectorstore.similarity_search(\n",
    "    query,  # our search query\n",
    "    k=3  # return 3 most relevant docs\n",
    ")"
   ]
  },
  {
   "cell_type": "code",
   "execution_count": 16,
   "id": "ab9c8e1d",
   "metadata": {},
   "outputs": [
    {
     "data": {
      "text/plain": [
       "[Document(page_content='Experimenting with the use of advanced hydrogen technologies at the cusp of commercial readiness through pathfinder projects;\\nInvesting in research and development (R&D) to unlock key technological bottlenecks;\\nPursuing international collaboration to enable supply chains for low-carbon hydrogen;\\nUndertaking long-term land and infrastructure planning; and', metadata={'id': 'adbff36bed2c-11', 'source': 'https://www.nccs.gov.sg/singapores-climate-action/mitigation-efforts/power'}),\n",
       " Document(page_content='Low-Carbon Hydrogen\\n\\nGiven its potential as an alternative fuel and industrial feedstock, low-carbon hydrogen has emerged as a key potential decarbonisation pathway for Singapore. Although many low-carbon hydrogen technologies and supply chains are still nascent, Singapore is taking steps to prepare for hydrogen deployment. Our National Hydrogen Strategy is organised around five key thrusts:', metadata={'id': 'adbff36bed2c-10', 'source': 'https://www.nccs.gov.sg/singapores-climate-action/mitigation-efforts/power'}),\n",
       " Document(page_content='Low-Carbon Hydrogen\\nGiven its potential as an alternative fuel and industrial feedstock, low-carbon hydrogen has emerged as a key potential decarbonisation pathway for Singapore. Although many low-carbon hydrogen technologies and supply chains are still nascent, Singapore is taking steps to prepare for hydrogen deployment. Read more about \\nour hydrogen strategy.', metadata={'id': '571461f1b8f1-15', 'source': 'https://www.nccs.gov.sg/singapores-climate-action/mitigation-efforts/industry'})]"
      ]
     },
     "execution_count": 16,
     "metadata": {},
     "output_type": "execute_result"
    }
   ],
   "source": [
    "query = \"What can hydrogen be used for?\"\n",
    "\n",
    "vectorstore.similarity_search(\n",
    "    query,  # our search query\n",
    "    k=3  # return 3 most relevant docs\n",
    ")"
   ]
  },
  {
   "cell_type": "code",
   "execution_count": 17,
   "id": "3101385c",
   "metadata": {},
   "outputs": [
    {
     "data": {
      "text/plain": [
       "[Document(page_content='Carbon Capture, Utilisation and Storage (CCUS)\\nWe are also exploring possible CCUS deployment pathways. Carbon dioxide captured could be sequestered in suitable sub-surface geological formations, utilised as feedstock for synthetic fuels or as building materials through mineralisation. Singapore will continue to monitor technological and market developments, and scale up deployment as pathways become techno-economically viable. Read more about CCUS in Singapore.\\nNatural Gas', metadata={'id': 'adbff36bed2c-14', 'source': 'https://www.nccs.gov.sg/singapores-climate-action/mitigation-efforts/power'}),\n",
       " Document(page_content='We are also exploring possible CCUS deployment pathways. Carbon dioxide captured from industrial facilities in Singapore could be sequestered in suitable sub-surface geological formations, utilised as feedstock for synthetic fuels or as building materials through mineralisation. Singapore will continue to monitor technological and market developments, and scale up deployment as pathways become techno-economically viable', metadata={'id': '571461f1b8f1-12', 'source': 'https://www.nccs.gov.sg/singapores-climate-action/mitigation-efforts/industry'}),\n",
       " Document(page_content='Supporting R&D in low-carbon solutions\\n\\nCarbon Capture, Utilisation and Storage (CCUS)', metadata={'id': '571461f1b8f1-11', 'source': 'https://www.nccs.gov.sg/singapores-climate-action/mitigation-efforts/industry'})]"
      ]
     },
     "execution_count": 17,
     "metadata": {},
     "output_type": "execute_result"
    }
   ],
   "source": [
    "query = \"What can carbon capture be used for?\"\n",
    "\n",
    "vectorstore.similarity_search(\n",
    "    query,  # our search query\n",
    "    k=3  # return 3 most relevant docs\n",
    ")"
   ]
  },
  {
   "cell_type": "code",
   "execution_count": 18,
   "id": "c3dee557",
   "metadata": {},
   "outputs": [
    {
     "data": {
      "text/plain": [
       "[Document(page_content='The carbon tax forms part of Singapore’s comprehensive suite of mitigation measures to support the transition to a low-carbon economy.', metadata={'id': 'b2a0c7c4402a-1', 'source': 'https://www.nccs.gov.sg/singapores-climate-action/mitigation-efforts/carbontax'}),\n",
       " Document(page_content='Singapore’s carbon tax underpins our net zero targets and climate mitigation efforts by providing an effective economic signal to steer producers and consumers away from carbon-intensive goods and services, hold businesses accountable for their emissions, and enhance the business case for the development of low-carbon solutions. In all, the carbon tax currently covers 80% of our total greenhouse gas (GHG) emissions from about 50 facilities in the manufacturing, power, waste, and water sectors', metadata={'id': 'b2a0c7c4402a-0', 'source': 'https://www.nccs.gov.sg/singapores-climate-action/mitigation-efforts/carbontax'}),\n",
       " Document(page_content='Carbon Tax in Singapore from 2019 to 2023\\nSingapore implemented a carbon tax, the first carbon pricing scheme in Southeast Asia, on 1 January 2019. The carbon tax level was set at S$5/tCO2e for the first five years from 2019 to 2023 to provide a transitional period for emitters to adjust.\\nKey Updates to Singapore’s Carbon Tax Post-2023 (Effective from 1 January 2024)', metadata={'id': 'b2a0c7c4402a-2', 'source': 'https://www.nccs.gov.sg/singapores-climate-action/mitigation-efforts/carbontax'})]"
      ]
     },
     "execution_count": 18,
     "metadata": {},
     "output_type": "execute_result"
    }
   ],
   "source": [
    "query = \"What is Singapore's carbon tax?\"\n",
    "\n",
    "vectorstore.similarity_search(\n",
    "    query,  # our search query\n",
    "    k=3  # return 3 most relevant docs\n",
    ")"
   ]
  },
  {
   "cell_type": "code",
   "execution_count": 19,
   "id": "9015d14b",
   "metadata": {},
   "outputs": [
    {
     "data": {
      "text/plain": [
       "[Document(page_content='To support our net zero target, the carbon tax will be raised to S$25/tCO2e in 2024 and 2025, and S$45/tCO2e in 2026 and 2027, with a view to reaching S$50-80/tCO2e by 2030. This will strengthen the price signal and impetus for businesses and individuals to reduce their carbon footprint in line with national climate goals.', metadata={'id': 'b2a0c7c4402a-3', 'source': 'https://www.nccs.gov.sg/singapores-climate-action/mitigation-efforts/carbontax'}),\n",
       " Document(page_content='In all, the carbon tax currently covers 80% of our total GHG emissions from about 50 facilities in the manufacturing, power, waste, and water sectors. Facilities in other sectors also indirectly face a carbon price on the electricity they consume as power generation companies are expected to pass on some degree of their own tax burden through increased electricity tariffs', metadata={'id': 'b2a0c7c4402a-14', 'source': 'https://www.nccs.gov.sg/singapores-climate-action/mitigation-efforts/carbontax'}),\n",
       " Document(page_content='The carbon tax is levied on facilities that directly emit at least 25,000 tCO2e of greenhouse gas (GHG) emissions annually. It currently covers six GHGs, namely carbon dioxide (CO2), methane (CH4), nitrous oxide (N2O), hydrofluorocarbons (HFCs), perfluorocarbons (PFCs), and sulphur hexafluoride (SF6). From 2024 onwards, the carbon tax coverage will be expanded to include nitrogen trifluoride (NF3) emissions', metadata={'id': 'b2a0c7c4402a-12', 'source': 'https://www.nccs.gov.sg/singapores-climate-action/mitigation-efforts/carbontax'})]"
      ]
     },
     "execution_count": 19,
     "metadata": {},
     "output_type": "execute_result"
    }
   ],
   "source": [
    "query = \"How much is the carbon tax?\"\n",
    "\n",
    "vectorstore.similarity_search(\n",
    "    query,  # our search query\n",
    "    k=3  # return 3 most relevant docs\n",
    ")"
   ]
  },
  {
   "cell_type": "code",
   "execution_count": 20,
   "id": "480e326e",
   "metadata": {},
   "outputs": [
    {
     "data": {
      "text/plain": [
       "[Document(page_content='The Government does not expect to derive additional revenue from the carbon tax increase in this decade. The revenue will be used to support decarbonisation efforts and the transition to a green economy, and cushion the impact on businesses and households.\\nUse of International Carbon Credits', metadata={'id': 'b2a0c7c4402a-5', 'source': 'https://www.nccs.gov.sg/singapores-climate-action/mitigation-efforts/carbontax'}),\n",
       " Document(page_content='To support our net zero target, the carbon tax will be raised to S$25/tCO2e in 2024 and 2025, and S$45/tCO2e in 2026 and 2027, with a view to reaching S$50-80/tCO2e by 2030. This will strengthen the price signal and impetus for businesses and individuals to reduce their carbon footprint in line with national climate goals.', metadata={'id': 'b2a0c7c4402a-3', 'source': 'https://www.nccs.gov.sg/singapores-climate-action/mitigation-efforts/carbontax'}),\n",
       " Document(page_content='In all, the carbon tax currently covers 80% of our total GHG emissions from about 50 facilities in the manufacturing, power, waste, and water sectors. Facilities in other sectors also indirectly face a carbon price on the electricity they consume as power generation companies are expected to pass on some degree of their own tax burden through increased electricity tariffs', metadata={'id': 'b2a0c7c4402a-14', 'source': 'https://www.nccs.gov.sg/singapores-climate-action/mitigation-efforts/carbontax'})]"
      ]
     },
     "execution_count": 20,
     "metadata": {},
     "output_type": "execute_result"
    }
   ],
   "source": [
    "query = \"Where will the revenue for the carbon tax go to?\"\n",
    "\n",
    "vectorstore.similarity_search(\n",
    "    query,  # our search query\n",
    "    k=3  # return 3 most relevant docs\n",
    ")"
   ]
  },
  {
   "cell_type": "code",
   "execution_count": 21,
   "id": "db759c49",
   "metadata": {},
   "outputs": [
    {
     "data": {
      "text/plain": [
       "[Document(page_content='SINGAPORE AND INTERNATIONAL EFFORTS\\nThe causes and impact of climate change can only be addressed effectively by a concerted international effort. Every country needs to play its part to reduce global concentrations of greenhouse gases (GHGs) and adapt to the impact of climate change.', metadata={'id': 'f3adcac3f6db-0', 'source': 'https://www.nccs.gov.sg/singapores-climate-action/singapore-and-international-efforts'}),\n",
       " Document(page_content='From designating 2018 as the Year of Climate Action to the annual Climate Action Week, the government has made significant efforts to rally for collective action. In 2019, the #RecycleRight Citizens’ Workgroup was convened to look at how to improve household recycling In 2020, the Alliances for Action, as well as conversations on sustainability to emerge stronger together with citizens, businesses, and NGOs were started.', metadata={'id': 'fd806c39b1f6-1', 'source': 'https://www.nccs.gov.sg/singapores-climate-action/overview/what-we-can-do-overview'}),\n",
       " Document(page_content='HOW WE ARE AFFECTING CLIMATE CHANGE\\nThe Greenhouse Effect\\nThe greenhouse effect occurs naturally when heat from the Earth’s surface is absorbed by greenhouse gases (GHGs), such as carbon dioxide (CO2), methane (CH4) and nitrous oxide (N2O), which are naturally present in the air. These gases allow the Earth’s atmosphere to be warm enough to support life.', metadata={'id': '8086fc9d47ea-0', 'source': 'https://www.nccs.gov.sg/about-climate-change/how-we-are-affecting-climate-change'})]"
      ]
     },
     "execution_count": 21,
     "metadata": {},
     "output_type": "execute_result"
    }
   ],
   "source": [
    "query = \"What can individuals do to fight climate change?\" # not very good\n",
    "\n",
    "vectorstore.similarity_search(\n",
    "    query,  # our search query\n",
    "    k=3  # return 3 most relevant docs\n",
    ")"
   ]
  },
  {
   "cell_type": "code",
   "execution_count": 22,
   "id": "ebb9af90",
   "metadata": {},
   "outputs": [
    {
     "data": {
      "text/plain": [
       "[Document(page_content='INDUSTRY\\nTo support businesses in their decarbonisation journeys, the Government has introduced a suite of measures to help companies improve energy efficiency, reduce emissions, and seize opportunities in the green economy.\\nEnergy Efficiency Measures', metadata={'id': '571461f1b8f1-0', 'source': 'https://www.nccs.gov.sg/singapores-climate-action/mitigation-efforts/industry'}),\n",
       " Document(page_content='GREEN GROWTH OPPORTUNITIES\\nClimate change, fossil fuel depletion and rapid urbanisation are driving countries to deploy cleaner and more sustainable energy solutions. While climate change clearly poses significant global challenges, it also provides strong incentives for entrepreneurship, research and development (R&D) and creative problem-solving to help cities and communities anticipate, prepare for and adapt to its impact.', metadata={'id': '32c7cfe4a783-0', 'source': 'https://www.nccs.gov.sg/singapores-climate-action/overview/green-growth-opportunities'}),\n",
       " Document(page_content='SINGAPORE AND INTERNATIONAL EFFORTS\\nThe causes and impact of climate change can only be addressed effectively by a concerted international effort. Every country needs to play its part to reduce global concentrations of greenhouse gases (GHGs) and adapt to the impact of climate change.', metadata={'id': 'f3adcac3f6db-0', 'source': 'https://www.nccs.gov.sg/singapores-climate-action/singapore-and-international-efforts'})]"
      ]
     },
     "execution_count": 22,
     "metadata": {},
     "output_type": "execute_result"
    }
   ],
   "source": [
    "query = \"What can firms do to fight climate change?\" # not very good\n",
    "\n",
    "vectorstore.similarity_search(\n",
    "    query,  # our search query\n",
    "    k=3  # return 3 most relevant docs\n",
    ")"
   ]
  },
  {
   "cell_type": "code",
   "execution_count": null,
   "id": "d9c037bd",
   "metadata": {},
   "outputs": [],
   "source": []
  }
 ],
 "metadata": {
  "kernelspec": {
   "display_name": "lc_venv",
   "language": "python",
   "name": "lc_venv"
  },
  "language_info": {
   "codemirror_mode": {
    "name": "ipython",
    "version": 3
   },
   "file_extension": ".py",
   "mimetype": "text/x-python",
   "name": "python",
   "nbconvert_exporter": "python",
   "pygments_lexer": "ipython3",
   "version": "3.10.8"
  }
 },
 "nbformat": 4,
 "nbformat_minor": 5
}
