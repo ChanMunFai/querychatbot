{
 "cells": [
  {
   "cell_type": "markdown",
   "id": "cc17e513",
   "metadata": {},
   "source": [
    "# NCCS Chatbot "
   ]
  },
  {
   "cell_type": "code",
   "execution_count": 13,
   "id": "d449b6a6",
   "metadata": {},
   "outputs": [],
   "source": [
    "from langchain.vectorstores import Pinecone\n",
    "from langchain import OpenAI, VectorDBQA\n",
    "from langchain.llms import HuggingFacePipeline\n",
    "# from langchain.chains.question_answering import load_qa_chain\n",
    "from transformers import LlamaTokenizer, LlamaForCausalLM, GenerationConfig, pipeline\n",
    "from getpass import getpass\n",
    "import pinecone\n",
    "\n",
    "from embeddings import LocalHuggingFaceEmbeddings"
   ]
  },
  {
   "cell_type": "code",
   "execution_count": 6,
   "id": "e0e6fa2a",
   "metadata": {},
   "outputs": [
    {
     "name": "stdout",
     "output_type": "stream",
     "text": [
      "Pinecone API Key: ········\n",
      "Pinecone environment: northamerica-northeast1-gcp\n"
     ]
    },
    {
     "data": {
      "text/plain": [
       "{'dimension': 768,\n",
       " 'index_fullness': 0.0,\n",
       " 'namespaces': {'': {'vector_count': 300}},\n",
       " 'total_vector_count': 300}"
      ]
     },
     "execution_count": 6,
     "metadata": {},
     "output_type": "execute_result"
    }
   ],
   "source": [
    "# Initialise pinecone \n",
    "\n",
    "# find API key in console at app.pinecone.io\n",
    "YOUR_API_KEY = getpass(\"Pinecone API Key: \")\n",
    "# find ENV (cloud region) next to API key in console\n",
    "YOUR_ENV = input(\"Pinecone environment: \")\n",
    "\n",
    "index_name = 'langchain-retrieval-augmentation'\n",
    "pinecone.init(\n",
    "    api_key=YOUR_API_KEY,\n",
    "    environment=YOUR_ENV\n",
    ")\n",
    "\n",
    "index = pinecone.GRPCIndex(index_name)\n",
    "index.describe_index_stats()"
   ]
  },
  {
   "cell_type": "code",
   "execution_count": 14,
   "id": "23d32ffe",
   "metadata": {},
   "outputs": [],
   "source": [
    "embeddings = LocalHuggingFaceEmbeddings('multi-qa-mpnet-base-dot-v1')\n",
    "\n",
    "text_field = \"text\"\n",
    "\n",
    "# switch back to normal index for langchain\n",
    "index = pinecone.Index(index_name)\n",
    "\n",
    "vectorstore = Pinecone(\n",
    "    index, embeddings.embed_query, text_field\n",
    ")     "
   ]
  },
  {
   "cell_type": "markdown",
   "id": "5f734c1d",
   "metadata": {},
   "source": [
    "# Local LLM - Koala 7b 8-bit"
   ]
  },
  {
   "cell_type": "code",
   "execution_count": 17,
   "id": "e58aaead",
   "metadata": {},
   "outputs": [
    {
     "name": "stderr",
     "output_type": "stream",
     "text": [
      "Overriding torch_dtype=None with `torch_dtype=torch.float16` due to requirements of `bitsandbytes` to enable model loading in mixed int8. Either pass torch_dtype=torch.float16 or don't pass this argument at all to remove this warning.\n",
      "Loading checkpoint shards: 100%|████████████████| 14/14 [01:21<00:00,  5.81s/it]\n"
     ]
    }
   ],
   "source": [
    "tokenizer = LlamaTokenizer.from_pretrained(\"samwit/koala-7b\")\n",
    "\n",
    "base_model = LlamaForCausalLM.from_pretrained(\n",
    "    \"samwit/koala-7b\",\n",
    "    load_in_8bit=True,\n",
    "    device_map='auto',\n",
    ")\n",
    "\n",
    "pipe = pipeline(\n",
    "    \"text-generation\",\n",
    "    model=base_model, \n",
    "    tokenizer=tokenizer, \n",
    "    max_length=1024,\n",
    "    temperature=0,\n",
    "    top_p=0.95,\n",
    "    repetition_penalty=1.15\n",
    ")\n",
    "\n",
    "llm = HuggingFacePipeline(pipeline=pipe)\n",
    "qa = VectorDBQA.from_chain_type(\n",
    "    llm=llm,\n",
    "    chain_type=\"stuff\",\n",
    "    vectorstore=vectorstore\n",
    ")"
   ]
  },
  {
   "cell_type": "code",
   "execution_count": 16,
   "id": "c91f2858",
   "metadata": {},
   "outputs": [
    {
     "data": {
      "text/plain": [
       "\" The National Climate Change Secretariat (NCCS) is a government agency established in 2010 to develop and implement Singapore's domestic and international policies and strategies to tackle climate change. It is part of the Strategy Group that supports the Prime Minister and his Cabinet to establish priorities and strengthen strategic alignment across Government.\""
      ]
     },
     "execution_count": 16,
     "metadata": {},
     "output_type": "execute_result"
    }
   ],
   "source": [
    "query = \"What is the National Climate Change Secretariat?\"\n",
    "qa.run(query)"
   ]
  },
  {
   "cell_type": "code",
   "execution_count": 18,
   "id": "a9207670",
   "metadata": {},
   "outputs": [
    {
     "data": {
      "text/plain": [
       "' Hydrogen can be used as a clean energy source and a way to store excess renewable energy. It can also be used as a chemical feedstock in various industries.'"
      ]
     },
     "execution_count": 18,
     "metadata": {},
     "output_type": "execute_result"
    }
   ],
   "source": [
    "query = \"How can we use hydrogen for fighting climate change?\"\n",
    "qa.run(query)"
   ]
  },
  {
   "cell_type": "code",
   "execution_count": 19,
   "id": "ff8090e3",
   "metadata": {},
   "outputs": [
    {
     "data": {
      "text/plain": [
       "\" Singapore's emission targets are to reduce emissions intensity by 36% from 2005 levels by 2030, stabilize greenhouse gas emissions with the aim of peaking around 2030, and then reduce emissions to around 60MtCO2e in 2030 after peaking emissions earlier as part of its 2030 NDC.\""
      ]
     },
     "execution_count": 19,
     "metadata": {},
     "output_type": "execute_result"
    }
   ],
   "source": [
    "query = \"What is Singapore's emission targets?\"\n",
    "qa.run(query)"
   ]
  },
  {
   "cell_type": "markdown",
   "id": "a3551266",
   "metadata": {},
   "source": [
    "#### QA with source"
   ]
  },
  {
   "cell_type": "code",
   "execution_count": 24,
   "id": "9f682dad",
   "metadata": {},
   "outputs": [],
   "source": [
    "from langchain.chains import VectorDBQAWithSourcesChain\n",
    "\n",
    "qa_with_sources = VectorDBQAWithSourcesChain.from_chain_type(\n",
    "    llm=llm,\n",
    "    chain_type=\"stuff\",\n",
    "    vectorstore=vectorstore\n",
    ")"
   ]
  },
  {
   "cell_type": "code",
   "execution_count": 26,
   "id": "6f35ed81",
   "metadata": {},
   "outputs": [
    {
     "name": "stderr",
     "output_type": "stream",
     "text": [
      "Input length of input_ids is 2208, but `max_length` is set to 1024. This can lead to unexpected behavior. You should consider increasing `max_new_tokens`.\n"
     ]
    },
    {
     "data": {
      "text/plain": [
       "{'question': \"What is Singapore's emission targets?\",\n",
       " 'answer': ' Singapore',\n",
       " 'sources': ''}"
      ]
     },
     "execution_count": 26,
     "metadata": {},
     "output_type": "execute_result"
    }
   ],
   "source": [
    "qa_with_sources(query)"
   ]
  },
  {
   "cell_type": "code",
   "execution_count": null,
   "id": "fae53205",
   "metadata": {},
   "outputs": [],
   "source": []
  }
 ],
 "metadata": {
  "kernelspec": {
   "display_name": "lc_venv",
   "language": "python",
   "name": "lc_venv"
  },
  "language_info": {
   "codemirror_mode": {
    "name": "ipython",
    "version": 3
   },
   "file_extension": ".py",
   "mimetype": "text/x-python",
   "name": "python",
   "nbconvert_exporter": "python",
   "pygments_lexer": "ipython3",
   "version": "3.10.8"
  }
 },
 "nbformat": 4,
 "nbformat_minor": 5
}
