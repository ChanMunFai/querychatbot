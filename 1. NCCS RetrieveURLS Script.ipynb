{
 "cells": [
  {
   "cell_type": "markdown",
   "id": "cdf92117",
   "metadata": {},
   "source": [
    "# NCCS RetrieveURLS Script\n",
    "\n",
    "This is a cleaned up script that only performs URL retrieval on the National Climate Change Secretariat website found at https://www.nccs.gov.sg/. \n",
    "\n",
    "The output of this notebook is a .txt file that contains all relevant links with useful information. \n",
    "\n",
    "This may not be an exhaustive list of all links in the NCCS website, though I believe it covers most of the stuff there. \n",
    "\n",
    "Also, I have removed certain links that do not contain useful information or require additional processing. These are: \n",
    "\n",
    "- Links that contain pdfs\n",
    "- Links that are media releases \n",
    "- Links that are public consultations \n",
    "\n",
    "\n",
    "*Apart from the links found in the NCCS webpage, I also find their recent publications to contain highly relevant and useful information. These are stored in PDF files and will be scrapped at a later stage.* "
   ]
  },
  {
   "cell_type": "code",
   "execution_count": 3,
   "id": "765a53ab",
   "metadata": {},
   "outputs": [],
   "source": [
    "import requests\n",
    "from bs4 import BeautifulSoup\n",
    "import copy "
   ]
  },
  {
   "cell_type": "code",
   "execution_count": 4,
   "id": "efcae207",
   "metadata": {},
   "outputs": [],
   "source": [
    "def collect_links(home_page, home_url=None):\n",
    "    \"\"\" Returns a list of all links embedded in a home_page. \n",
    "    \n",
    "    Arguments: \n",
    "        - home_page (str): URL of home page to scrape links from \n",
    "        - home_url (str): parent URL of all websites\n",
    "    \"\"\"\n",
    "    response = requests.get(home_page)\n",
    "    soup = BeautifulSoup(response.content, 'html.parser')\n",
    "\n",
    "    # Find all the links in the page\n",
    "    links = soup.find_all('a')\n",
    "    collected_links_set = set()\n",
    "\n",
    "    for link in links: \n",
    "        try: \n",
    "            url = link.get('href')\n",
    "            if url.startswith('http'): \n",
    "                pass \n",
    "            else: \n",
    "                collected_links_set.add(url)\n",
    "        except: \n",
    "            pass\n",
    "\n",
    "    collected_links_lst = list(collected_links_set)\n",
    "    \n",
    "    if home_url is None: \n",
    "        home_url = home_page\n",
    "        \n",
    "    collected_links_lst = list(map(lambda x: home_url + x, collected_links_lst))\n",
    "    return collected_links_lst"
   ]
  },
  {
   "cell_type": "code",
   "execution_count": 5,
   "id": "0a40940d",
   "metadata": {},
   "outputs": [
    {
     "name": "stdout",
     "output_type": "stream",
     "text": [
      "['https://www.nccs.gov.sg/about-climate-change/how-we-are-affecting-climate-change/', 'https://www.nccs.gov.sg/singapores-climate-action/Mitigation-Efforts/overview/', 'https://www.nccs.gov.sg/careers', 'https://www.nccs.gov.sg/singapores-climate-action/overview/what-we-can-do-overview/', 'https://www.nccs.gov.sg/singapores-climate-action/overview/adaptation-overview', 'https://www.nccs.gov.sg/media/parliamentary-replies/', 'https://www.nccs.gov.sg/who-we-are/inter-ministerial-committee-on-climate-change/', 'https://www.nccs.gov.sg/singapores-climate-action/overview/national-circumstances/', 'https://www.nccs.gov.sg/media/press-releases/addendum-to-the-presidents-address-2023/', 'https://www.nccs.gov.sg/media/speeches/speech-by-senior-minister-and-coordinating-minister-for-national-security-teo-chee-hean-committee-of-supply-2023/', 'https://www.nccs.gov.sg/singapores-climate-action/overview/adaptation-overview/', 'https://www.nccs.gov.sg/media/speeches/speech-ds-cindy-khoo-wwf-sg-2023/', 'https://www.nccs.gov.sg/about-climate-change/global-impact-of-climate-change/', 'https://www.nccs.gov.sg/who-we-are/about-nccs', 'https://www.nccs.gov.sg/media/speeches/', 'https://www.nccs.gov.sg/media/publications/', 'https://www.nccs.gov.sg/terms-of-use/', 'https://www.nccs.gov.sg/singapores-climate-action/overview/green-growth-opportunities', 'https://www.nccs.gov.sg/media/', 'https://www.nccs.gov.sg/media/press-release/singapore-will-raise-climate-ambition', 'https://www.nccs.gov.sg/', 'https://www.nccs.gov.sg/privacy-statement/', 'https://www.nccs.gov.sg/media/press-releases/', 'https://www.nccs.gov.sg/singapores-climate-action/Singapores-Climate-Targets/overview/', 'https://www.nccs.gov.sg/singapores-climate-action/overview/green-growth-opportunities/', 'https://www.nccs.gov.sg/pages/contact-us/contact-info/', 'https://www.nccs.gov.sg/about-climate-change/what-is-climate-change/', 'https://www.nccs.gov.sg/who-we-are/about-nccs/', 'https://www.nccs.gov.sg/singapores-climate-action/mitigation-efforts/overview/', 'https://www.nccs.gov.sg/public-consultation/', 'https://www.nccs.gov.sg/singapores-climate-action/singapore-and-international-efforts/', 'https://www.nccs.gov.sg/media/press-releases/singapore-commits-to-achieve-net-zero/']\n",
      "32\n"
     ]
    }
   ],
   "source": [
    "initial_links = collect_links('https://www.nccs.gov.sg')\n",
    "print(initial_links)\n",
    "\n",
    "all_links = copy.deepcopy(initial_links)\n",
    "print(len(all_links))"
   ]
  },
  {
   "cell_type": "code",
   "execution_count": 6,
   "id": "59e1e5ab",
   "metadata": {},
   "outputs": [
    {
     "name": "stdout",
     "output_type": "stream",
     "text": [
      "466\n"
     ]
    }
   ],
   "source": [
    "# Collect new links from all previous collected webpages\n",
    "\n",
    "all_links_set = set(all_links)\n",
    "\n",
    "for link in initial_links: \n",
    "    new_found_links = collect_links(link, home_url = 'https://www.nccs.gov.sg')\n",
    "    \n",
    "    for i in new_found_links: \n",
    "        all_links_set.add(i)\n",
    "        \n",
    "all_links = list(all_links_set)\n",
    "print(len(all_links))"
   ]
  },
  {
   "cell_type": "code",
   "execution_count": 9,
   "id": "b19602ca",
   "metadata": {},
   "outputs": [
    {
     "name": "stdout",
     "output_type": "stream",
     "text": [
      "49\n"
     ]
    }
   ],
   "source": [
    "all_links = [link for link in all_links if \"media\" not in link and \"mailto\" not in link]\n",
    "all_links = [link for link in all_links if \"pdf\" not in link] # Handle PDF separately\n",
    "all_links = [link for link in all_links if \"public-consultation\" not in link]\n",
    "\n",
    "unclean_urls = ['https://www.nccs.gov.sg/', 'https://www.nccs.gov.sg/privacy-statement/', \\\n",
    "                'https://www.nccs.gov.sg/careers/', 'https://www.nccs.gov.sg/pages/contact-us/contact-info/', \\\n",
    "               'https://www.nccs.gov.sg/careers', 'https://www.nccs.gov.sg/terms-of-use/']\n",
    "\n",
    "all_links = [link for link in all_links if link not in unclean_urls]\n",
    "\n",
    "print(len(all_links))"
   ]
  },
  {
   "cell_type": "code",
   "execution_count": 11,
   "id": "ca700c9f",
   "metadata": {},
   "outputs": [],
   "source": [
    "with open(\"urls.txt\", \"w\") as file:\n",
    "    file.write(str(all_links))"
   ]
  },
  {
   "cell_type": "code",
   "execution_count": null,
   "id": "fcd4e1d5",
   "metadata": {},
   "outputs": [],
   "source": []
  }
 ],
 "metadata": {
  "kernelspec": {
   "display_name": "lc_venv",
   "language": "python",
   "name": "lc_venv"
  },
  "language_info": {
   "codemirror_mode": {
    "name": "ipython",
    "version": 3
   },
   "file_extension": ".py",
   "mimetype": "text/x-python",
   "name": "python",
   "nbconvert_exporter": "python",
   "pygments_lexer": "ipython3",
   "version": "3.10.8"
  }
 },
 "nbformat": 4,
 "nbformat_minor": 5
}
